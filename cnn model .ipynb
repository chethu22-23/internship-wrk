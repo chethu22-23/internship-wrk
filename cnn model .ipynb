{
 "cells": [
  {
   "cell_type": "code",
   "execution_count": 9,
   "id": "6cf10378",
   "metadata": {},
   "outputs": [
    {
     "name": "stdout",
     "output_type": "stream",
     "text": [
      "Epoch 1/10\n",
      "23/23 [==============================] - 4s 58ms/step - loss: 0.3290 - accuracy: 0.8691\n",
      "Epoch 2/10\n",
      "23/23 [==============================] - 1s 55ms/step - loss: 0.0676 - accuracy: 0.9848\n",
      "Epoch 3/10\n",
      "23/23 [==============================] - 1s 55ms/step - loss: 0.0283 - accuracy: 0.9904\n",
      "Epoch 4/10\n",
      "23/23 [==============================] - 1s 56ms/step - loss: 0.0313 - accuracy: 0.9890\n",
      "Epoch 5/10\n",
      "23/23 [==============================] - 1s 57ms/step - loss: 0.0125 - accuracy: 0.9945\n",
      "Epoch 6/10\n",
      "23/23 [==============================] - 1s 56ms/step - loss: 0.0132 - accuracy: 0.9959\n",
      "Epoch 7/10\n",
      "23/23 [==============================] - 1s 54ms/step - loss: 0.0035 - accuracy: 0.9986\n",
      "Epoch 8/10\n",
      "23/23 [==============================] - 1s 56ms/step - loss: 0.0136 - accuracy: 0.9945\n",
      "Epoch 9/10\n",
      "23/23 [==============================] - 1s 55ms/step - loss: 0.0031 - accuracy: 1.0000\n",
      "Epoch 10/10\n",
      "23/23 [==============================] - 1s 55ms/step - loss: 0.0023 - accuracy: 1.0000\n"
     ]
    }
   ],
   "source": [
    "import os\n",
    "import cv2\n",
    "import numpy as np\n",
    "from tensorflow.keras.models import Sequential\n",
    "from tensorflow.keras.layers import Conv2D, MaxPooling2D, Flatten, Dense\n",
    "\n",
    "# Define constants\n",
    "IMG_WIDTH, IMG_HEIGHT = 64, 64\n",
    "person_folders = ['person1', 'person2']  # Add more folder names as needed\n",
    "NUM_CLASSES = len(person_folders)\n",
    "\n",
    "# Load the images and labels\n",
    "X_data = []\n",
    "y_data = []\n",
    "\n",
    "for i, folder in enumerate(person_folders):\n",
    "    for filename in os.listdir(folder):\n",
    "        img = cv2.imread(os.path.join(folder, filename))\n",
    "        img = cv2.resize(img, (IMG_WIDTH, IMG_HEIGHT))\n",
    "        X_data.append(img)\n",
    "        y_data.append(i)  # Assign label based on the folder index\n",
    "\n",
    "# Convert lists to numpy arrays\n",
    "X_data = np.array(X_data)\n",
    "y_data = np.array(y_data)\n",
    "\n",
    "# Normalize pixel values to range [0, 1]\n",
    "X_data = X_data.astype('float32') / 255.0\n",
    "\n",
    "# Define the CNN model\n",
    "model = Sequential([\n",
    "    Conv2D(32, (3, 3), activation='relu', input_shape=(IMG_WIDTH, IMG_HEIGHT, 3)),\n",
    "    MaxPooling2D((2, 2)),\n",
    "    Conv2D(64, (3, 3), activation='relu'),\n",
    "    MaxPooling2D((2, 2)),\n",
    "    Conv2D(64, (3, 3), activation='relu'),\n",
    "    Flatten(),\n",
    "    Dense(64, activation='relu'),\n",
    "    Dense(NUM_CLASSES, activation='softmax')\n",
    "])\n",
    "\n",
    "# Compile the model\n",
    "model.compile(optimizer='adam',\n",
    "              loss='sparse_categorical_crossentropy',\n",
    "              metrics=['accuracy'])\n",
    "\n",
    "# Train the model\n",
    "model.fit(X_data, y_data, epochs=10, batch_size=32)\n",
    "\n",
    "# Save the trained model\n",
    "model.save('face_recognition_cnn_model.h5')\n"
   ]
  }
 ],
 "metadata": {
  "kernelspec": {
   "display_name": "Python 3 (ipykernel)",
   "language": "python",
   "name": "python3"
  },
  "language_info": {
   "codemirror_mode": {
    "name": "ipython",
    "version": 3
   },
   "file_extension": ".py",
   "mimetype": "text/x-python",
   "name": "python",
   "nbconvert_exporter": "python",
   "pygments_lexer": "ipython3",
   "version": "3.11.5"
  }
 },
 "nbformat": 4,
 "nbformat_minor": 5
}
